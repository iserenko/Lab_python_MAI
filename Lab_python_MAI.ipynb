{
 "cells": [
  {
   "cell_type": "markdown",
   "metadata": {
    "id": "fOgrMv4OLU8E"
   },
   "source": [
    "# Лабораторная работа\n",
    "## Знакомство с основными библиотеками языка Python для работы с данными: numpy, pandas, matplotlib, seaborn"
   ]
  },
  {
   "cell_type": "code",
   "execution_count": null,
   "metadata": {
    "id": "SZG2C68EOzc9"
   },
   "outputs": [],
   "source": [
    "# Импорт необходимых библиотек\n",
    "# Успешное выполнение этой ячейки кода подтверждает правильную настройку среды разработки\n",
    "\n",
    "import numpy as np\n",
    "import pandas as pd\n",
    "import matplotlib.pyplot as plt\n",
    "import seaborn as sns\n",
    "# Следующая строка позволяет встраивать графики в сохранённый файл jupyter notebook\n",
    "%matplotlib inline"
   ]
  },
  {
   "cell_type": "markdown",
   "metadata": {
    "id": "wnS_mIWLbKPM"
   },
   "source": [
    "**NumPy** — это базовая библиотека для научных вычислений в Python. Она предлагает оптимальные по производительности и времени методы работы с многомерными массивами. Кроме того, существует большая система других библиотек, которые принимают массивы NumPy в качестве входных данных. В аэрокосмической отрасли NumPy широко используется для численного моделирования, анализа данных, обработки сигналов и многого другого.\n",
    "\n",
    "Двумя наиболее распространенными способами создания массивов NumPy являются:\n",
    "\n",
    "* Преобразование других объектов перечисления Python (например, списков, кортежей) с использованием функции np.array().\n",
    "* Вызов одной из встроенных функций NumPy.\n",
    "\n",
    "В следующих ячейках представлен синтаксис для создания массивов и некоторые распространенные встроенные функции NumPy."
   ]
  },
  {
   "cell_type": "code",
   "execution_count": null,
   "metadata": {
    "colab": {
     "base_uri": "https://localhost:8080/"
    },
    "id": "z7z-T-ZASAQp",
    "outputId": "f903ae2f-e0c4-4ae5-9f78-36ac9524f7c6"
   },
   "outputs": [],
   "source": [
    "### Преобразование других объектов Python\n",
    "\n",
    "# Одномерный массив из списка, размерность = shape (4, ).\n",
    "x_1d = np.array([1, 3, 5, 7])\n",
    "\n",
    "# Двумерный массив из комбинации списков и кортежей, размерность (3, 3).\n",
    "x_2d = np.array([(1, 1, 1), [2, 2, 2], (3, 3, 3)])\n",
    "\n",
    "# Вывод сохранённых массивов.\n",
    "print(f'x_1d:\\n{x_1d}\\n')\n",
    "print(f'x_2d:\\n{x_2d}\\n')"
   ]
  },
  {
   "cell_type": "code",
   "execution_count": null,
   "metadata": {
    "colab": {
     "base_uri": "https://localhost:8080/"
    },
    "id": "CEh2Erwbb6ui",
    "outputId": "59400a18-67bb-4120-a8d7-212310f80a7e"
   },
   "outputs": [],
   "source": [
    "### Использование встроенных функций NumPy.\n",
    "\n",
    "# Двумерный массив из нулей, 2 строки, 3 столбца.\n",
    "x_zeros = np.zeros((2, 3))\n",
    "\n",
    "# Трёхмерный массив из единиц, размерность (2, 3, 4) - 2 матрицы из 3 строк и 4 столбцов.\n",
    "x_ones = np.ones((2, 3, 4))\n",
    "\n",
    "# Единичная матрица ранга 4.\n",
    "x_identity = np.eye(4)\n",
    "\n",
    "# Последовательность чисел в интервале от 5 до 11 с шагом 2 (не включая 11)\n",
    "x_seq = np.arange(5, 11, 2)\n",
    "\n",
    "# Массив из единиц той же размерности, что и `x_zeros`\n",
    "x_ones_as_zeros = np.ones_like(x_zeros)\n",
    "\n",
    "\n",
    "# Вывод сохранённых массивов.\n",
    "print(f'x_zeros:\\n{x_zeros}\\n')\n",
    "print(f'x_ones:\\n{x_ones}\\n')\n",
    "print(f'x_identity:\\n{x_identity}\\n')\n",
    "print(f'x_seq:\\n{x_seq}\\n')\n",
    "print(f'x_ones_as_zeros:\\n{x_ones_as_zeros}\\n')"
   ]
  },
  {
   "cell_type": "code",
   "execution_count": null,
   "metadata": {
    "colab": {
     "base_uri": "https://localhost:8080/"
    },
    "id": "pIi9hE_rgHBp",
    "outputId": "b48b722a-1a10-4d31-b2f5-81bd7b3f6055"
   },
   "outputs": [],
   "source": [
    "# Трёхмерный массив.\n",
    "x_3d = np.array([[[1, 2, 3, 4], [4, 7, 1, 9], [0, 4, 6, 8]],\n",
    "                 [[5, 2, 8, 0], [2, 4, 3, 1], [1, 0, 4, 9]]])\n",
    "\n",
    "# Проверка количества измерений, количества элементов, размерности (формы) и типа данных\n",
    "print(f'Количество изерений: {x_3d.ndim}')\n",
    "print(f'Количество элементов: {x_3d.size}')\n",
    "print(f'Размерность (форма): {x_3d.shape}')\n",
    "print(f'Тип данных: {x_3d.dtype}')\n",
    "\n",
    "# Вывод массива\n",
    "print(x_3d)"
   ]
  },
  {
   "cell_type": "code",
   "execution_count": null,
   "metadata": {
    "colab": {
     "base_uri": "https://localhost:8080/"
    },
    "id": "Mrr574nFnm7F",
    "outputId": "2dcf3fdf-f9fc-4e61-eb83-9bfc7155ad31"
   },
   "outputs": [],
   "source": [
    "# Использование функции reshape() для изменения размерности (формы) массива:\n",
    "\n",
    "# Двумерный массив, заполненный последовательными целыми числами\n",
    "x_seq_2d = np.arange(12).reshape(4, 3)\n",
    "\n",
    "# Трёхмерный массив, заполненный единицами, -1 на единственном месте в задании формы массива позволяет автоматически подобрать подходящую размерность\n",
    "x_ones_3d = np.ones(12).reshape((2, 2, -1))\n",
    "\n",
    "# Print the results.\n",
    "print(f'x_seq_2d:\\n{x_seq_2d}\\n')\n",
    "print(f'x_ones_3d:\\n{x_ones_3d}\\n')"
   ]
  },
  {
   "cell_type": "markdown",
   "metadata": {
    "id": "jzLhZxROu9Pe"
   },
   "source": [
    "## **Задание 1: Анализ значений датчика**\n",
    "Сгенерируем массив случайных значений, считанный с условного датчика.\n",
    "\n",
    "Выведите среднее значение показателя и его максимальное значение."
   ]
  },
  {
   "cell_type": "code",
   "execution_count": null,
   "metadata": {
    "colab": {
     "base_uri": "https://localhost:8080/"
    },
    "id": "weDZnDSIs27m",
    "outputId": "5cb76ddb-57de-4bf0-fbaf-7244c82d764c"
   },
   "outputs": [],
   "source": [
    "np.random.seed(42) # Для воспроизводимости результатов\n",
    "\n",
    "sensor_data = np.random.randint(0, 35, size=20)\n",
    "\n",
    "#### ВСТАВЬТЕ КОД СЮДА\n",
    "average = ...\n",
    "max_val = ...\n",
    "####\n",
    "\n",
    "print(f\"Среднее значение: {average}\")\n",
    "print(f\"Максимальное значение: {max_val}\")"
   ]
  },
  {
   "cell_type": "markdown",
   "metadata": {
    "id": "RVKgnp7a0n8G"
   },
   "source": [
    "Постройте линейный график изменения показателей датчика со временем и обозначьте оси с помощью методов библиотеки для визуализации данных [matplotlib](https://matplotlib.org/stable/users/explain/quick_start.html)"
   ]
  },
  {
   "cell_type": "code",
   "execution_count": null,
   "metadata": {
    "colab": {
     "base_uri": "https://localhost:8080/",
     "height": 489
    },
    "id": "ECXOGH7Lyn0U",
    "outputId": "4403767f-b7ef-4493-c30d-da47f157f9b4"
   },
   "outputs": [],
   "source": [
    "time = np.arange(len(sensor_data))  # Создаем массив временных значений\n",
    "\n",
    "#### ВСТАВЬТЕ КОД СЮДА\n",
    "...\n",
    "####\n",
    "plt.title(\"Изменение показателя\")\n",
    "plt.xlabel(\"Время (с)\")\n",
    "plt.ylabel(\"Датчик\")"
   ]
  },
  {
   "cell_type": "markdown",
   "metadata": {
    "id": "s8DQd36K1qDh"
   },
   "source": [
    "## Задание 2: Матрица поворота\n",
    "\n",
    "Примените матрицу поворота в двумерном пространстве на угол 83 градуса (правосторонняя система координат и положительное направление вращения против часовой стрелки) к вектору (1, 0).\n",
    "\n",
    "Подсказка: используйте функцию np.dot() для вычисления произведения матриц."
   ]
  },
  {
   "cell_type": "code",
   "execution_count": null,
   "metadata": {
    "colab": {
     "base_uri": "https://localhost:8080/"
    },
    "id": "IcGAc08Y27JM",
    "outputId": "78072acd-82c1-4e30-f266-6ed905d3808a"
   },
   "outputs": [],
   "source": [
    "angle = np.radians(83)  # Преобразуем угол в радианы\n",
    "rotation_matrix = np.array([[np.cos(angle), -np.sin(angle)],\n",
    "                             [np.sin(angle), np.cos(angle)]])\n",
    "\n",
    "vector = np.array([1, 0])\n",
    "\n",
    "#### ВСТАВЬТЕ КОД СЮДА\n",
    "rotated_vector = ...\n",
    "####\n",
    "\n",
    "print(f\"Матрица поворота:\\n{rotation_matrix}\")\n",
    "print(f\"Повернутый вектор: {rotated_vector}\")"
   ]
  },
  {
   "cell_type": "code",
   "execution_count": null,
   "metadata": {
    "colab": {
     "base_uri": "https://localhost:8080/",
     "height": 564
    },
    "id": "ePzqKHos4-IJ",
    "outputId": "44c7fce3-b23a-4c68-facc-2742fdd5b420"
   },
   "outputs": [],
   "source": [
    "# Визуализация\n",
    "plt.figure(figsize=(6, 6))\n",
    "plt.quiver(0, 0, vector[0], vector[1], angles='xy', scale_units='xy', scale=1, color='blue', label='Исходный вектор')\n",
    "plt.quiver(0, 0, rotated_vector[0], rotated_vector[1], angles='xy', scale_units='xy', scale=1, color='red', label='Повернутый вектор')\n",
    "plt.xlim(-1.5, 1.5)\n",
    "plt.ylim(-1.5, 1.5)\n",
    "plt.title('Вектор и его поворот')\n",
    "plt.xlabel('X')\n",
    "plt.ylabel('Y')\n",
    "plt.grid(True)\n",
    "plt.legend()\n",
    "plt.show()"
   ]
  },
  {
   "cell_type": "markdown",
   "metadata": {
    "id": "wt1EYao2-0Kl"
   },
   "source": [
    "## Задание 3:  Обработка сигналов\n",
    "\n",
    "Условие:  Имеется зашумлённый сигнал, представленный в виде массива numpy.\n",
    "Применить к сигналу операцию фильтрации с использованием скользящего среднего с окном размера 5.\n",
    "\n",
    "Подсказка: используйте функцию np.convolve() для вычисления результата фильтрации (свёртки)"
   ]
  },
  {
   "cell_type": "code",
   "execution_count": null,
   "metadata": {
    "colab": {
     "base_uri": "https://localhost:8080/",
     "height": 430
    },
    "id": "YBNBQ_rl6n8R",
    "outputId": "2b0226d7-4202-4522-9d7e-4b07d6c114e7"
   },
   "outputs": [],
   "source": [
    "x = np.linspace(-np.pi, np.pi, 101)\n",
    "mu, sigma = 0, 0.1 # среднее и стандартное отклонение\n",
    "s = np.random.normal(mu, sigma, 101)\n",
    "y = np.sin(x) + s\n",
    "plt.plot(x, y)\n",
    "window_size = 5\n",
    "filter = np.ones(window_size)/ window_size\n",
    "\n",
    "#### ВСТАВЬТЕ КОД СЮДА\n",
    "filtered_signal = ...\n",
    "####"
   ]
  },
  {
   "cell_type": "code",
   "execution_count": null,
   "metadata": {
    "colab": {
     "base_uri": "https://localhost:8080/",
     "height": 564
    },
    "id": "MRnyY9mC8ImG",
    "outputId": "afd7f61c-ee01-45cf-d063-17692456b9d2"
   },
   "outputs": [],
   "source": [
    "# Визуализация\n",
    "plt.figure(figsize=(8,6))\n",
    "plt.plot(y, label='Исходный сигнал')\n",
    "plt.plot(np.arange(len(filtered_signal)), filtered_signal, label='Отфильтрованный сигнал')\n",
    "plt.title('Исходный и отфильтрованный сигнал')\n",
    "plt.xlabel(\"Время\")\n",
    "plt.ylabel(\"Амплитуда\")\n",
    "plt.grid(True)\n",
    "plt.legend()\n",
    "plt.show()"
   ]
  },
  {
   "cell_type": "markdown",
   "metadata": {
    "id": "KcS98QjERe1e"
   },
   "source": [
    "## **Задание 4: Работа с таблицами**\n",
    "**Pandas** - библиотека, которая применяется для обработки и анализа табличных данных. В этой библиотеке используется numpy для удобного хранения данных и вычислений.\n",
    "\n",
    "Далее мы будем работать с реальным историческим датасетом, содержащим информацию о десяти самых кассовых фильмах Голливуда за каждый год до 2018."
   ]
  },
  {
   "cell_type": "code",
   "execution_count": null,
   "metadata": {
    "colab": {
     "base_uri": "https://localhost:8080/",
     "height": 207
    },
    "id": "sJJu5kdvsRv_",
    "outputId": "ffb5066a-90a9-44a7-ed1c-1f70f424c87d"
   },
   "outputs": [],
   "source": [
    "# Читаем файл blockbusters.csv из папки Data, которая должна быть в одной директории с этим ноутбуком\n",
    "# Не обращаем внимание на предупреждение, если таблица отображается корректно\n",
    "\n",
    "data_folder = './Data/'\n",
    "movies = pd.read_csv(data_folder+'blockbusters.csv')\n",
    "\n",
    "# movies = pd.read_csv('blockbusters.csv')\n",
    "movies['worldwide_gross'] = movies['worldwide_gross'].str.replace('$', '').str.replace(',', '').astype(float)\n",
    "movies = movies.rename(columns={\"Main_Genre\": \"основной_жанр\", \"Genre_2\": \"жанр_2\", \"Genre_3\": \"жанр_3\", \"imdb_rating\": \"рейтинг\",\n",
    "                                \"length\": \"продолжительность_мин\", \"rank_in_year\": \"место_в_топе\", \"rating\": \"возрастное_ограничение\",\n",
    "                                \"studio\": \"студия_производства\", \"title\": \"название\", \"worldwide_gross\": \"кассовые_сборы\", \"year\": \"год\"})\n",
    "# Вывести первые 7 строк таблицы\n",
    "movies.head(7)"
   ]
  },
  {
   "cell_type": "code",
   "execution_count": null,
   "metadata": {
    "colab": {
     "base_uri": "https://localhost:8080/",
     "height": 156
    },
    "id": "NIBh898UEQkQ",
    "outputId": "e58d3063-b8a8-4990-a346-f3654e8964cd"
   },
   "outputs": [],
   "source": [
    "# Ввод фильмов, с рейтингом выше 8.7\n",
    "movies[movies['рейтинг'] > 8.7]"
   ]
  },
  {
   "cell_type": "markdown",
   "metadata": {
    "id": "Vs7ueDXCWAmI"
   },
   "source": [
    "\n",
    "Выведите только строки с фильмами производства студии Pixar.\n",
    "[Документация](https://pandas.pydata.org/docs/user_guide/indexing.html)"
   ]
  },
  {
   "cell_type": "code",
   "execution_count": null,
   "metadata": {
    "colab": {
     "base_uri": "https://localhost:8080/",
     "height": 416
    },
    "id": "tZtmqiII2OUz",
    "outputId": "894ccf6c-b5aa-406a-fce3-85184bae2240"
   },
   "outputs": [],
   "source": [
    "#### ВСТАВЬТЕ КОД СЮДА\n",
    "...\n",
    "####"
   ]
  },
  {
   "cell_type": "markdown",
   "metadata": {
    "id": "pbjvTAwwh0Eo"
   },
   "source": [
    "Теперь выведите только строки с фильмами, которые длятся больше 3 часов и были выпущены до 2001 года включительно. (Используйте метод loc() для фильтрации таблицы https://pandas.pydata.org/docs/reference/api/pandas.DataFrame.loc.html)"
   ]
  },
  {
   "cell_type": "code",
   "execution_count": null,
   "metadata": {
    "colab": {
     "base_uri": "https://localhost:8080/",
     "height": 303
    },
    "id": "JvO02rFVhzf0",
    "outputId": "860407ef-cdcb-450b-eb7d-c4f8d4b1b917"
   },
   "outputs": [],
   "source": [
    "#### ВСТАВЬТЕ КОД СЮДА\n",
    "...\n",
    "####"
   ]
  },
  {
   "cell_type": "markdown",
   "metadata": {
    "id": "FH8jIlWvu7Ha"
   },
   "source": [
    "## **Задание 5: Графики распределения одной переменной**\n",
    "\n",
    "Типы графиков, которые можно построить:\n",
    "https://matplotlib.org/stable/plot_types/index.html\n",
    "\n",
    "Постройте гистограмму распределения переменной \"кассовые_сборы\" с помощью функций библиотеки matplotlib (количество столбцов = 100). Для каждого значения уровня кассовых сборов по оси **x** она должна показывать соответствующее количество фильмов по оси **y**.\n",
    "\n",
    "Функции plt.xlabel(), plt.ylabel(), plt.title() нужны, чтобы подписать оси и заголовок гистограммы."
   ]
  },
  {
   "cell_type": "code",
   "execution_count": null,
   "metadata": {
    "colab": {
     "base_uri": "https://localhost:8080/",
     "height": 472
    },
    "id": "8ZJFr8gcu3wQ",
    "outputId": "a7884207-183b-48fd-fa42-bb868ec4ee68"
   },
   "outputs": [],
   "source": [
    "#### ВСТАВЬТЕ КОД СЮДА\n",
    "...\n",
    "####\n",
    "plt.xlabel('Мировые кассовые сборы, в долларах')\n",
    "plt.ylabel('Количество фильмов')\n",
    "plt.title('Кассовые сборы, гистограмма');"
   ]
  },
  {
   "cell_type": "markdown",
   "metadata": {
    "id": "T_oeLfTQ60VU"
   },
   "source": [
    "Постройте также boxplot (\"ящик с усами\") для этой переменной.\n",
    "<img src=\"Boxplot.jpg\" style=\"width: 500px;\" align=\"left\">\n",
    "\n",
    "Медиана - это значение, которое разделяет упорядоченный набор данных на две равные части, ее еще можно назвать Q2. Половина данных лежит ниже медианы, а другая половина — выше. На графике boxplot это линия внутри прямоугольника.\n",
    "\n",
    "Первый квартиль — это значение, которое отделяет 25% наименьших значений в наборе данных. На графике boxplot это нижняя граница прямоугольника.\n",
    "\n",
    "Третий квартиль — это значение, которое отделяет 25% наибольших значений в наборе данных. На графике boxplot это верхняя граница прямоугольника.\n",
    "\n",
    "Интерквартильный размах - это разница между третьим и первым квартилями, то есть это прямоугольник, в котором лежит медиана, а по краям находятся Q1 и Q2. Он показывает разброс центральной половины данных. Внутри него лежит 50% данных.\n",
    "\n",
    "Для кассовых сборов получите значения медианы \"median\", 1-го квартиля \"Q1\" (Q1, 25-й перцентиль) 3-го квартиля \"Q3\" (Q3, 75-й перцентиль), интерквартильного размаха \"IQR\" (Q3 - Q1). Сравните полученные значения и построенный boxplot."
   ]
  },
  {
   "cell_type": "code",
   "execution_count": null,
   "metadata": {
    "colab": {
     "base_uri": "https://localhost:8080/",
     "height": 565
    },
    "id": "Aur_v3BX7_1m",
    "outputId": "00bb2c33-88af-4314-cfeb-39e08500026d"
   },
   "outputs": [],
   "source": [
    "#### ВСТАВЬТЕ КОД СЮДА\n",
    "...\n",
    "####\n",
    "plt.title('Кассовые сборы, ящик с усами');\n",
    "plt.ylabel('Мировые кассовые сборы, в долларах')\n",
    "plt.xticks([])\n",
    "plt.grid(True)\n",
    "\n",
    "#### ВСТАВЬТЕ КОД СЮДА\n",
    "median = ...\n",
    "Q1 = ...\n",
    "Q3 = ...\n",
    "IQR = ...\n",
    "####\n",
    "\n",
    "# Определяем границы для выбросов\n",
    "whis = 1.5\n",
    "upper_outlier_threshold = Q3 + whis * IQR\n",
    "lower_outlier_threshold = Q1 - whis * IQR\n",
    "# Находим верхний ус (максимальное значение, не превышающее верхнюю границу)\n",
    "upper_whisker = movies['кассовые_сборы'][movies['кассовые_сборы'] <= upper_outlier_threshold].max()\n",
    "# Находим нижний ус (минимальное значение, не меньшее нижней границы)\n",
    "lower_whisker = movies['кассовые_сборы'][movies['кассовые_сборы'] >= lower_outlier_threshold].min()\n",
    "\n",
    "print(\"Медиана списка : \", median)\n",
    "print(f\"Q1 (25-й перцентиль): {Q1}\")\n",
    "print(f\"Q3 (75-й перцентиль): {Q3}\")\n",
    "print(f\"IQR (Интерквартильный размах): {IQR}\")\n",
    "print(f\"Верхняя граница выбросов: {upper_outlier_threshold}\")\n",
    "print(f\"Нижняя граница выбросов: {lower_outlier_threshold}\")\n",
    "print(f\"Верхний ус: {upper_whisker}\")\n",
    "print(f\"Нижний ус: {lower_whisker}\")"
   ]
  },
  {
   "cell_type": "markdown",
   "metadata": {
    "id": "unywfshwtiZr"
   },
   "source": [
    "Для самопроверки и получения дополнительной информации о данных в таблице можно использовать метод describe(). Функция describe оценивает столбцы с числовым типом данных (int или float) и возвращает статистические данные, которые дают представление о распределении значений.\n"
   ]
  },
  {
   "cell_type": "code",
   "execution_count": null,
   "metadata": {
    "colab": {
     "base_uri": "https://localhost:8080/",
     "height": 297
    },
    "id": "H-6YMBrTmEPH",
    "outputId": "aff21210-362f-4c2d-ef98-f3147b016e9b"
   },
   "outputs": [],
   "source": [
    "movies.describe()"
   ]
  },
  {
   "cell_type": "markdown",
   "metadata": {
    "id": "Nx1myDIu3LRM"
   },
   "source": [
    "## **Задание 6: графики двух переменных**\n"
   ]
  },
  {
   "cell_type": "markdown",
   "metadata": {
    "id": "lRoSL7ypHC-0"
   },
   "source": [
    "**Seaborn** - это библиотека Python, которая дополняет функции matplotlib и придает графикам более приятный вид. Она добавляет красивые цветовые карты по умолчанию и имеет встроенные опции для построения необычных графиков, например, таких как [heatmap](https://seaborn.pydata.org/examples/spreadsheet_heatmap.html).\n",
    "\n",
    "Примеры графиков, которые можно построить с помощью методов библиотеки seaborn: https://seaborn.pydata.org/examples/index.html\n",
    "\n",
    "Используя метод sns.scatterplot() постройте график зависимости рейтинга фильма от его кассовых сборов.\n",
    "\n",
    "Можно использвать атрибут hue=\"основной_жанр\", чтобы добавить информацию о жанре фильма для каждой точки."
   ]
  },
  {
   "cell_type": "code",
   "execution_count": null,
   "metadata": {
    "colab": {
     "base_uri": "https://localhost:8080/",
     "height": 467
    },
    "id": "g4igEA8zHqWo",
    "outputId": "07621db2-c770-4458-c756-1fdc209e999c"
   },
   "outputs": [],
   "source": [
    "#### ВСТАВЬТЕ КОД СЮДА\n",
    "...\n",
    "####"
   ]
  },
  {
   "cell_type": "markdown",
   "metadata": {
    "id": "xPKLIHmC4IO0"
   },
   "source": [
    "\n",
    "\n",
    "## **Задание 7: Heatmap**\n",
    "\n",
    "Какие студии и в каком жанре снимают блокбастеры?\n",
    "\n",
    "В таблице представлено множество различных студий и жанров. При работе с двумя категориальными переменными, которые обе имеют много разных значений, часто не хватает места для представления каждой комбинации двух категорий таким графиком, как barplot или boxplot. В таком случае полезно использовать тепловые карты (heatmaps) для быстрого понимания данных.\n",
    "\n",
    "Представьте цветом количество фильмов, снятых каждой студией в каждом жанре с помощью тепловой карты. Подсказка: используйте функции pandas crosstab() и Seaborn heatmap(..., annot=True)."
   ]
  },
  {
   "cell_type": "code",
   "execution_count": null,
   "metadata": {
    "colab": {
     "base_uri": "https://localhost:8080/",
     "height": 697
    },
    "id": "JrxMUcd_9z2r",
    "outputId": "4223554d-394d-46c6-fbad-b05300831409"
   },
   "outputs": [],
   "source": [
    "#### ВСТАВЬТЕ КОД СЮДА\n",
    "...\n",
    "####\n",
    "plt.title('Количество фильмов каждого жанра, снятых каждой студией')"
   ]
  },
  {
   "cell_type": "markdown",
   "metadata": {
    "id": "h5ayzHzpDP84"
   },
   "source": [
    "Теперь аналогичным образом постройте тепловую карту для разных студий и жанров, где цветом будут обозначаться **суммарные** кассовые сборы, полученные студией за фильмы в выбранном жанре.\n",
    "Подсказка: используйте аргументы values = movies['кассовые_сборы']  и aggfunc = 'sum' функции crosstab().  "
   ]
  },
  {
   "cell_type": "code",
   "execution_count": null,
   "metadata": {
    "colab": {
     "base_uri": "https://localhost:8080/",
     "height": 697
    },
    "id": "y7lbxtKWBzHm",
    "outputId": "159ba71e-ce32-4b85-9a1a-677acf2ec026"
   },
   "outputs": [],
   "source": [
    "#### ВСТАВЬТЕ КОД СЮДА\n",
    "...\n",
    "####\n",
    "\n",
    "plt.title('Суммарные кассовые сборы разных студией по жанрам')"
   ]
  },
  {
   "cell_type": "markdown",
   "metadata": {
    "id": "Wib9G9Ex769j"
   },
   "source": [
    "# Конец :)"
   ]
  }
 ],
 "metadata": {
  "colab": {
   "provenance": []
  },
  "kernelspec": {
   "display_name": "Python 3 (ipykernel)",
   "language": "python",
   "name": "python3"
  },
  "language_info": {
   "codemirror_mode": {
    "name": "ipython",
    "version": 3
   },
   "file_extension": ".py",
   "mimetype": "text/x-python",
   "name": "python",
   "nbconvert_exporter": "python",
   "pygments_lexer": "ipython3",
   "version": "3.8.12"
  }
 },
 "nbformat": 4,
 "nbformat_minor": 1
}
